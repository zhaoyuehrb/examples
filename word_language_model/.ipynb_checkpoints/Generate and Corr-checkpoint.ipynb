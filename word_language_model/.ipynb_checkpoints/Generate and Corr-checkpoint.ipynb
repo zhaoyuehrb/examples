{
 "cells": [
  {
   "cell_type": "code",
   "execution_count": 1,
   "metadata": {},
   "outputs": [],
   "source": [
    "import argparse\n",
    "import time\n",
    "import math\n",
    "import os\n",
    "import torch\n",
    "import torch.nn as nn\n",
    "import torch.nn.functional as F\n",
    "import torch.onnx\n",
    "import torch.optim as optim\n",
    "\n",
    "import data\n",
    "import model"
   ]
  },
  {
   "cell_type": "code",
   "execution_count": 2,
   "metadata": {},
   "outputs": [],
   "source": [
    "dat_path = './data/wikitext-2'\n",
    "corpus = data.Corpus(dat_path)\n",
    "ntokens = len(corpus.dictionary)"
   ]
  },
  {
   "cell_type": "code",
   "execution_count": 3,
   "metadata": {},
   "outputs": [],
   "source": [
    "device = torch.device(\"cuda\" if torch.cuda.is_available() else \"cpu\")\n",
    "#device = torch.device('cpu')"
   ]
  },
  {
   "cell_type": "code",
   "execution_count": 4,
   "metadata": {},
   "outputs": [],
   "source": [
    "## Model\n",
    "\n",
    "class FNNModel(nn.Module):\n",
    "    def __init__(self,vocab_size,window = 5,embed_dim = 300, share = False, hidden_size = 300):\n",
    "        super(FNNModel,self).__init__()\n",
    "        self.window = window\n",
    "        self.embed_dim = embed_dim\n",
    "        self.vocab_size = vocab_size\n",
    "        self.hidden_size = hidden_size\n",
    "        self.share = share\n",
    "        if share:\n",
    "            self.hidden_size = embed_dim\n",
    "        else:\n",
    "            self.linear2 = nn.Linear(hidden_size, vocab_size, bias = False)\n",
    "        \n",
    "        self.input_embed = nn.Embedding(vocab_size, embed_dim)\n",
    "\n",
    "        self.linear1 = nn.Linear(window * embed_dim, hidden_size)\n",
    "        \n",
    "    \n",
    "    def forward(self, inputs):\n",
    "        lookup = self.input_embed(inputs)\n",
    "#        print(lookup.shape)\n",
    "        concat = lookup.view(-1, self.window * self.embed_dim)\n",
    "#        print(concat.shape)\n",
    "        mid = torch.tanh(self.linear1(concat))\n",
    "#        print(mid.shape)\n",
    "        if self.share:\n",
    "            logits = torch.matmul(mid, self.input_embed.weight.t())\n",
    "        else:\n",
    "            logits = self.linear2(mid)\n",
    "#        print(logits.shape)\n",
    "        return logits\n",
    "\n"
   ]
  },
  {
   "cell_type": "code",
   "execution_count": 5,
   "metadata": {},
   "outputs": [
    {
     "data": {
      "text/plain": [
       "FNNModel(\n",
       "  (linear2): Linear(in_features=500, out_features=33278, bias=False)\n",
       "  (input_embed): Embedding(33278, 500)\n",
       "  (linear1): Linear(in_features=2000, out_features=500, bias=True)\n",
       ")"
      ]
     },
     "execution_count": 5,
     "metadata": {},
     "output_type": "execute_result"
    }
   ],
   "source": [
    "model_path = 'model_no_share.pt'\n",
    "with open(model_path, 'rb') as f:\n",
    "    modeln = torch.load(f).to(device)\n",
    "modeln.eval()"
   ]
  },
  {
   "cell_type": "code",
   "execution_count": 6,
   "metadata": {},
   "outputs": [
    {
     "data": {
      "text/plain": [
       "FNNModel(\n",
       "  (input_embed): Embedding(33278, 100)\n",
       "  (linear1): Linear(in_features=400, out_features=100, bias=True)\n",
       ")"
      ]
     },
     "execution_count": 6,
     "metadata": {},
     "output_type": "execute_result"
    }
   ],
   "source": [
    "model_path = 'model_with_share.pt'\n",
    "with open(model_path, 'rb') as f:\n",
    "    models = torch.load(f).to(device)\n",
    "models.eval()"
   ]
  },
  {
   "cell_type": "code",
   "execution_count": null,
   "metadata": {},
   "outputs": [],
   "source": [
    "\n"
   ]
  },
  {
   "cell_type": "markdown",
   "metadata": {},
   "source": [
    "## Initial words definition"
   ]
  },
  {
   "cell_type": "code",
   "execution_count": 7,
   "metadata": {},
   "outputs": [
    {
     "data": {
      "text/plain": [
       "tensor([[558, 113,   3, 121]], device='cuda:0')"
      ]
     },
     "execution_count": 7,
     "metadata": {},
     "output_type": "execute_result"
    }
   ],
   "source": [
    "init = torch.randint(1000, (1,4), dtype = torch.long).to(device)\n",
    "init"
   ]
  },
  {
   "cell_type": "code",
   "execution_count": 8,
   "metadata": {},
   "outputs": [],
   "source": [
    "words = ['I','like','to','play']\n",
    "indices = [corpus.dictionary.word2idx[word] for word in words]\n",
    "init = torch.LongTensor(indices).unsqueeze(0).to(device)"
   ]
  },
  {
   "cell_type": "code",
   "execution_count": null,
   "metadata": {},
   "outputs": [],
   "source": []
  },
  {
   "cell_type": "markdown",
   "metadata": {},
   "source": [
    "### Output texts from share-embedding, non-share embedding models, and from the original model"
   ]
  },
  {
   "cell_type": "code",
   "execution_count": 9,
   "metadata": {},
   "outputs": [
    {
     "name": "stdout",
     "output_type": "stream",
     "text": [
      "Rịa not printed\n"
     ]
    }
   ],
   "source": [
    "words = 500\n",
    "outf = 'outputs.txt'\n",
    "temperature = 1\n",
    "cur = init\n",
    "with open(outf, 'w') as f:\n",
    "    with torch.no_grad():\n",
    "        for i in range(words):\n",
    "            out = models(cur)\n",
    "            out_idx = torch.multinomial(torch.softmax(out.div(temperature),dim=1).squeeze(), 1)\n",
    "            out_word = corpus.dictionary.idx2word[out_idx]\n",
    "            try:\n",
    "                f.write(out_word)\n",
    "            except:\n",
    "                print(out_word,'not printed')\n",
    "            f.write('\\n' if i % 20 == 19 else ' ')\n",
    "            cur = torch.cat([cur[0][1:],out_idx]).unsqueeze(0)"
   ]
  },
  {
   "cell_type": "code",
   "execution_count": 10,
   "metadata": {},
   "outputs": [],
   "source": [
    "words = 500\n",
    "outf = 'outputn.txt'\n",
    "temperature = 1\n",
    "cur = init\n",
    "with open(outf, 'w') as f:\n",
    "    with torch.no_grad():\n",
    "        for i in range(words):\n",
    "            out = modeln(cur)\n",
    "            out_idx = torch.multinomial(torch.softmax(out.div(temperature),dim=1).squeeze(), 1)\n",
    "            out_word = corpus.dictionary.idx2word[out_idx]\n",
    "            try:\n",
    "                f.write(out_word)\n",
    "            except:\n",
    "                print(out_word,'not printed')\n",
    "            f.write('\\n' if i % 20 == 19 else ' ')\n",
    "            cur = torch.cat([cur[0][1:],out_idx]).unsqueeze(0)"
   ]
  },
  {
   "cell_type": "code",
   "execution_count": 11,
   "metadata": {
    "scrolled": true
   },
   "outputs": [
    {
     "name": "stdout",
     "output_type": "stream",
     "text": [
      "WARNING: You have a CUDA device, so you should probably run with --cuda\n",
      "| Generated 0/1000 words\n",
      "| Generated 100/1000 words\n",
      "| Generated 200/1000 words\n",
      "| Generated 300/1000 words\n",
      "| Generated 400/1000 words\n",
      "| Generated 500/1000 words\n",
      "| Generated 600/1000 words\n",
      "| Generated 700/1000 words\n",
      "| Generated 800/1000 words\n",
      "| Generated 900/1000 words\n"
     ]
    }
   ],
   "source": [
    "!python generate.py"
   ]
  },
  {
   "cell_type": "code",
   "execution_count": null,
   "metadata": {},
   "outputs": [],
   "source": []
  },
  {
   "cell_type": "code",
   "execution_count": null,
   "metadata": {},
   "outputs": [],
   "source": []
  },
  {
   "cell_type": "markdown",
   "metadata": {},
   "source": [
    "## Similarity score computation"
   ]
  },
  {
   "cell_type": "code",
   "execution_count": 12,
   "metadata": {},
   "outputs": [],
   "source": [
    "from sklearn.metrics.pairwise import cosine_similarity"
   ]
  },
  {
   "cell_type": "code",
   "execution_count": 13,
   "metadata": {},
   "outputs": [],
   "source": [
    "import scipy.stats"
   ]
  },
  {
   "cell_type": "code",
   "execution_count": 14,
   "metadata": {},
   "outputs": [],
   "source": [
    "import pandas as pd\n",
    "import numpy as np"
   ]
  },
  {
   "cell_type": "markdown",
   "metadata": {},
   "source": [
    "Extract Ground truth labels"
   ]
  },
  {
   "cell_type": "code",
   "execution_count": 15,
   "metadata": {},
   "outputs": [
    {
     "data": {
      "text/html": [
       "<div>\n",
       "<style scoped>\n",
       "    .dataframe tbody tr th:only-of-type {\n",
       "        vertical-align: middle;\n",
       "    }\n",
       "\n",
       "    .dataframe tbody tr th {\n",
       "        vertical-align: top;\n",
       "    }\n",
       "\n",
       "    .dataframe thead th {\n",
       "        text-align: right;\n",
       "    }\n",
       "</style>\n",
       "<table border=\"1\" class=\"dataframe\">\n",
       "  <thead>\n",
       "    <tr style=\"text-align: right;\">\n",
       "      <th></th>\n",
       "      <th>0</th>\n",
       "      <th>1</th>\n",
       "      <th>2</th>\n",
       "    </tr>\n",
       "  </thead>\n",
       "  <tbody>\n",
       "    <tr>\n",
       "      <th>0</th>\n",
       "      <td>tiger</td>\n",
       "      <td>cat</td>\n",
       "      <td>7.35</td>\n",
       "    </tr>\n",
       "    <tr>\n",
       "      <th>1</th>\n",
       "      <td>tiger</td>\n",
       "      <td>tiger</td>\n",
       "      <td>10.00</td>\n",
       "    </tr>\n",
       "    <tr>\n",
       "      <th>2</th>\n",
       "      <td>plane</td>\n",
       "      <td>car</td>\n",
       "      <td>5.77</td>\n",
       "    </tr>\n",
       "    <tr>\n",
       "      <th>3</th>\n",
       "      <td>train</td>\n",
       "      <td>car</td>\n",
       "      <td>6.31</td>\n",
       "    </tr>\n",
       "    <tr>\n",
       "      <th>4</th>\n",
       "      <td>television</td>\n",
       "      <td>radio</td>\n",
       "      <td>6.77</td>\n",
       "    </tr>\n",
       "  </tbody>\n",
       "</table>\n",
       "</div>"
      ],
      "text/plain": [
       "            0      1      2\n",
       "0       tiger    cat   7.35\n",
       "1       tiger  tiger  10.00\n",
       "2       plane    car   5.77\n",
       "3       train    car   6.31\n",
       "4  television  radio   6.77"
      ]
     },
     "execution_count": 15,
     "metadata": {},
     "output_type": "execute_result"
    }
   ],
   "source": [
    "gt_gold = pd.read_csv('annonation/wordsim_similarity_goldstandard.txt',header=None,sep='\\t')\n",
    "gt_gold.head()"
   ]
  },
  {
   "cell_type": "code",
   "execution_count": 16,
   "metadata": {},
   "outputs": [
    {
     "data": {
      "text/html": [
       "<div>\n",
       "<style scoped>\n",
       "    .dataframe tbody tr th:only-of-type {\n",
       "        vertical-align: middle;\n",
       "    }\n",
       "\n",
       "    .dataframe tbody tr th {\n",
       "        vertical-align: top;\n",
       "    }\n",
       "\n",
       "    .dataframe thead th {\n",
       "        text-align: right;\n",
       "    }\n",
       "</style>\n",
       "<table border=\"1\" class=\"dataframe\">\n",
       "  <thead>\n",
       "    <tr style=\"text-align: right;\">\n",
       "      <th></th>\n",
       "      <th>0</th>\n",
       "      <th>1</th>\n",
       "      <th>2</th>\n",
       "    </tr>\n",
       "  </thead>\n",
       "  <tbody>\n",
       "    <tr>\n",
       "      <th>0</th>\n",
       "      <td>love</td>\n",
       "      <td>sex</td>\n",
       "      <td>6.77</td>\n",
       "    </tr>\n",
       "    <tr>\n",
       "      <th>1</th>\n",
       "      <td>tiger</td>\n",
       "      <td>cat</td>\n",
       "      <td>7.35</td>\n",
       "    </tr>\n",
       "    <tr>\n",
       "      <th>2</th>\n",
       "      <td>tiger</td>\n",
       "      <td>tiger</td>\n",
       "      <td>10.00</td>\n",
       "    </tr>\n",
       "    <tr>\n",
       "      <th>3</th>\n",
       "      <td>book</td>\n",
       "      <td>paper</td>\n",
       "      <td>7.46</td>\n",
       "    </tr>\n",
       "    <tr>\n",
       "      <th>4</th>\n",
       "      <td>computer</td>\n",
       "      <td>keyboard</td>\n",
       "      <td>7.62</td>\n",
       "    </tr>\n",
       "  </tbody>\n",
       "</table>\n",
       "</div>"
      ],
      "text/plain": [
       "          0         1      2\n",
       "0      love       sex   6.77\n",
       "1     tiger       cat   7.35\n",
       "2     tiger     tiger  10.00\n",
       "3      book     paper   7.46\n",
       "4  computer  keyboard   7.62"
      ]
     },
     "execution_count": 16,
     "metadata": {},
     "output_type": "execute_result"
    }
   ],
   "source": [
    "gt_human = pd.read_csv('annonation/wordsim353_agreed.txt',header=None,sep='\\t')\n",
    "del gt_human[0]\n",
    "gt_human.columns = [0,1,2]\n",
    "gt_human.head()"
   ]
  },
  {
   "cell_type": "code",
   "execution_count": null,
   "metadata": {},
   "outputs": [],
   "source": []
  },
  {
   "cell_type": "markdown",
   "metadata": {},
   "source": [
    "### First look at model without parameter sharing"
   ]
  },
  {
   "cell_type": "code",
   "execution_count": 17,
   "metadata": {},
   "outputs": [
    {
     "data": {
      "text/plain": [
       "SpearmanrResult(correlation=-0.07689096789954653, pvalue=0.30356461138270435)"
      ]
     },
     "execution_count": 17,
     "metadata": {},
     "output_type": "execute_result"
    }
   ],
   "source": [
    "model = modeln\n",
    "model.eval()\n",
    "embed = model.input_embed.weight.cpu().detach().numpy()\n",
    "sim = []\n",
    "for i,row in gt_gold.iterrows():\n",
    "    if not row[0] in corpus.dictionary.word2idx or not row[1] in corpus.dictionary.word2idx:\n",
    "#        pass\n",
    "        sim.append(None)\n",
    "    else:\n",
    "        idx1 = corpus.dictionary.word2idx[row[0]]\n",
    "        idx2 = corpus.dictionary.word2idx[row[1]]\n",
    "        si = cosine_similarity(embed[idx1,:].reshape(1,-1), embed[idx2,:].reshape(1,-1)).item()\n",
    "        sim.append(si)\n",
    "        \n",
    "        \n",
    "gt_gold['sim'] = sim\n",
    "gt_fil = gt_gold[gt_gold['sim'].notnull()]\n",
    "scipy.stats.spearmanr(gt_fil[2],gt_fil['sim'])"
   ]
  },
  {
   "cell_type": "code",
   "execution_count": 18,
   "metadata": {},
   "outputs": [
    {
     "data": {
      "text/plain": [
       "SpearmanrResult(correlation=-0.05362728488030286, pvalue=0.34277888056951156)"
      ]
     },
     "execution_count": 18,
     "metadata": {},
     "output_type": "execute_result"
    }
   ],
   "source": [
    "sim = []\n",
    "for i,row in gt_human.iterrows():\n",
    "    if not row[0] in corpus.dictionary.word2idx or not row[1] in corpus.dictionary.word2idx:\n",
    "#        pass\n",
    "        sim.append(None)\n",
    "    else:\n",
    "        idx1 = corpus.dictionary.word2idx[row[0]]\n",
    "        idx2 = corpus.dictionary.word2idx[row[1]]\n",
    "        si = cosine_similarity(embed[idx1,:].reshape(1,-1), embed[idx2,:].reshape(1,-1)).item()\n",
    "        sim.append(si)\n",
    "        \n",
    "        \n",
    "gt_human['sim'] = sim\n",
    "gt_fil = gt_human[gt_human['sim'].notnull()]\n",
    "scipy.stats.spearmanr(gt_fil[2],gt_fil['sim'])"
   ]
  },
  {
   "cell_type": "code",
   "execution_count": null,
   "metadata": {},
   "outputs": [],
   "source": []
  },
  {
   "cell_type": "code",
   "execution_count": null,
   "metadata": {},
   "outputs": [],
   "source": []
  },
  {
   "cell_type": "markdown",
   "metadata": {},
   "source": [
    "### Now look at model with parameter sharing"
   ]
  },
  {
   "cell_type": "code",
   "execution_count": 19,
   "metadata": {},
   "outputs": [
    {
     "data": {
      "text/plain": [
       "SpearmanrResult(correlation=0.20342080583060393, pvalue=0.006022316522346484)"
      ]
     },
     "execution_count": 19,
     "metadata": {},
     "output_type": "execute_result"
    }
   ],
   "source": [
    "model = models\n",
    "model.eval()\n",
    "embed = model.input_embed.weight.cpu().detach().numpy()\n",
    "sim = []\n",
    "for i,row in gt_gold.iterrows():\n",
    "    if not row[0] in corpus.dictionary.word2idx or not row[1] in corpus.dictionary.word2idx:\n",
    "#        pass\n",
    "        sim.append(None)\n",
    "    else:\n",
    "        idx1 = corpus.dictionary.word2idx[row[0]]\n",
    "        idx2 = corpus.dictionary.word2idx[row[1]]\n",
    "        si = cosine_similarity(embed[idx1,:].reshape(1,-1), embed[idx2,:].reshape(1,-1)).item()\n",
    "        sim.append(si)\n",
    "        \n",
    "        \n",
    "gt_gold['sim'] = sim\n",
    "gt_fil = gt_gold[gt_gold['sim'].notnull()]\n",
    "scipy.stats.spearmanr(gt_fil[2],gt_fil['sim'])"
   ]
  },
  {
   "cell_type": "code",
   "execution_count": 20,
   "metadata": {},
   "outputs": [
    {
     "data": {
      "text/plain": [
       "SpearmanrResult(correlation=0.12631772738006466, pvalue=0.024961873426308484)"
      ]
     },
     "execution_count": 20,
     "metadata": {},
     "output_type": "execute_result"
    }
   ],
   "source": [
    "sim = []\n",
    "for i,row in gt_human.iterrows():\n",
    "    if not row[0] in corpus.dictionary.word2idx or not row[1] in corpus.dictionary.word2idx:\n",
    "#        pass\n",
    "        sim.append(None)\n",
    "    else:\n",
    "        idx1 = corpus.dictionary.word2idx[row[0]]\n",
    "        idx2 = corpus.dictionary.word2idx[row[1]]\n",
    "        si = cosine_similarity(embed[idx1,:].reshape(1,-1), embed[idx2,:].reshape(1,-1)).item()\n",
    "        sim.append(si)\n",
    "        \n",
    "        \n",
    "gt_human['sim'] = sim\n",
    "gt_fil = gt_human[gt_human['sim'].notnull()]\n",
    "scipy.stats.spearmanr(gt_fil[2],gt_fil['sim'])"
   ]
  },
  {
   "cell_type": "code",
   "execution_count": null,
   "metadata": {},
   "outputs": [],
   "source": []
  },
  {
   "cell_type": "markdown",
   "metadata": {},
   "source": [
    "### Plot the correlation to see if we have any patterns"
   ]
  },
  {
   "cell_type": "code",
   "execution_count": 21,
   "metadata": {},
   "outputs": [
    {
     "name": "stderr",
     "output_type": "stream",
     "text": [
      "D:\\anaconda3\\envs\\comp\\lib\\site-packages\\seaborn\\_decorators.py:43: FutureWarning: Pass the following variables as keyword args: x, y. From version 0.12, the only valid positional argument will be `data`, and passing other arguments without an explicit keyword will result in an error or misinterpretation.\n",
      "  FutureWarning\n"
     ]
    },
    {
     "data": {
      "text/plain": [
       "<AxesSubplot:xlabel='2', ylabel='sim'>"
      ]
     },
     "execution_count": 21,
     "metadata": {},
     "output_type": "execute_result"
    },
    {
     "data": {
      "image/png": "[encoded data removed]",
      "text/plain": [
       "<Figure size 432x288 with 1 Axes>"
      ]
     },
     "metadata": {
      "needs_background": "light"
     },
     "output_type": "display_data"
    }
   ],
   "source": [
    "import seaborn as sns\n",
    "sns.scatterplot(gt_fil[2],gt_fil['sim'])"
   ]
  },
  {
   "cell_type": "markdown",
   "metadata": {},
   "source": [
    "The tiger-tiger pair give the externality. Exclude that point"
   ]
  },
  {
   "cell_type": "code",
   "execution_count": 22,
   "metadata": {},
   "outputs": [
    {
     "name": "stderr",
     "output_type": "stream",
     "text": [
      "D:\\anaconda3\\envs\\comp\\lib\\site-packages\\seaborn\\_decorators.py:43: FutureWarning: Pass the following variables as keyword args: x, y. From version 0.12, the only valid positional argument will be `data`, and passing other arguments without an explicit keyword will result in an error or misinterpretation.\n",
      "  FutureWarning\n"
     ]
    },
    {
     "data": {
      "text/plain": [
       "<AxesSubplot:xlabel='2', ylabel='sim'>"
      ]
     },
     "execution_count": 22,
     "metadata": {},
     "output_type": "execute_result"
    },
    {
     "data": {
      "image/png": "[encoded data removed]",
      "text/plain": [
       "<Figure size 432x288 with 1 Axes>"
      ]
     },
     "metadata": {
      "needs_background": "light"
     },
     "output_type": "display_data"
    }
   ],
   "source": [
    "sns.scatterplot(gt_fil[2][3:],gt_fil['sim'][3:])"
   ]
  },
  {
   "cell_type": "code",
   "execution_count": null,
   "metadata": {},
   "outputs": [],
   "source": []
  },
  {
   "cell_type": "code",
   "execution_count": null,
   "metadata": {},
   "outputs": [],
   "source": []
  }
 ],
 "metadata": {
  "kernelspec": {
   "display_name": "Python 3",
   "language": "python",
   "name": "python3"
  },
  "language_info": {
   "codemirror_mode": {
    "name": "ipython",
    "version": 3
   },
   "file_extension": ".py",
   "mimetype": "text/x-python",
   "name": "python",
   "nbconvert_exporter": "python",
   "pygments_lexer": "ipython3",
   "version": "3.7.7"
  }
 },
 "nbformat": 4,
 "nbformat_minor": 4
}
